{
  "nbformat": 4,
  "nbformat_minor": 0,
  "metadata": {
    "colab": {
      "name": "Untitled4.ipynb",
      "version": "0.3.2",
      "provenance": [],
      "include_colab_link": true
    },
    "kernelspec": {
      "name": "python3",
      "display_name": "Python 3"
    }
  },
  "cells": [
    {
      "cell_type": "markdown",
      "metadata": {
        "id": "view-in-github",
        "colab_type": "text"
      },
      "source": [
        "<a href=\"https://colab.research.google.com/github/RebuildYY/sp20161624/blob/master/p2.ipynb\" target=\"_parent\"><img src=\"https://colab.research.google.com/assets/colab-badge.svg\" alt=\"Open In Colab\"/></a>"
      ]
    },
    {
      "cell_type": "code",
      "metadata": {
        "id": "QyPvq2ExsFrM",
        "colab_type": "code",
        "colab": {
          "base_uri": "https://localhost:8080/",
          "height": 89
        },
        "outputId": "c16b0095-8135-4059-e5b8-5f899b6e8f2c"
      },
      "source": [
        "def prime_num(n):\n",
        "  if n != 1:\n",
        "    for i in range(2, n):\n",
        "      if n % i == 0:\n",
        "        return False\n",
        "  else:\n",
        "    return False\n",
        "  return True\n",
        "\n",
        "def prime_num_set(n):\n",
        "  int_list = (x for x in range(2, n + 1))\n",
        "  prime_set = set()\n",
        "  for i in int_list:\n",
        "    if prime_num(i) and n % i == 0:\n",
        "      prime_set.add(i)\n",
        "  return prime_set\n",
        "\n",
        "def compare_set(a, b):\n",
        "  s1 = prime_num_set(a)\n",
        "  s2 = prime_num_set(b)\n",
        "  if s1 == s2:\n",
        "    return True\n",
        "  else:\n",
        "    return False\n",
        "\n",
        "print(\"Input:\")\n",
        "#A = map(int,input().split( ))\n",
        "#B = map(int,input().split( ))\n",
        "A = input().split( )\n",
        "B = input().split( )\n",
        "count = 0\n",
        "\n",
        "if len(A) != len(B):\n",
        "  print(\"list의 원소의 개수가 맞지 않습니다.\")\n",
        "else:\n",
        "  for i in range(0, len(A)):\n",
        "    j = int(A[i])\n",
        "    k = int(B[i])\n",
        "    if compare_set(j, k):\n",
        "      count = count + 1\n",
        "  print(\"Output:\")\n",
        "  count"
      ],
      "execution_count": 12,
      "outputs": [
        {
          "output_type": "stream",
          "text": [
            "Input:\n",
            "15 10 3 \n",
            "75 30 5 4\n",
            "list의 원소의 개수가 맞지 않습니다.\n"
          ],
          "name": "stdout"
        }
      ]
    }
  ]
}