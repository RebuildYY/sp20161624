{
  "nbformat": 4,
  "nbformat_minor": 0,
  "metadata": {
    "colab": {
      "name": "Untitled6.ipynb",
      "version": "0.3.2",
      "provenance": [],
      "include_colab_link": true
    },
    "kernelspec": {
      "name": "python3",
      "display_name": "Python 3"
    }
  },
  "cells": [
    {
      "cell_type": "markdown",
      "metadata": {
        "id": "view-in-github",
        "colab_type": "text"
      },
      "source": [
        "<a href=\"https://colab.research.google.com/github/RebuildYY/sp20161624/blob/master/p4.ipynb\" target=\"_parent\"><img src=\"https://colab.research.google.com/assets/colab-badge.svg\" alt=\"Open In Colab\"/></a>"
      ]
    },
    {
      "cell_type": "code",
      "metadata": {
        "id": "p8LiDkXMHzVL",
        "colab_type": "code",
        "colab": {
          "base_uri": "https://localhost:8080/",
          "height": 179
        },
        "outputId": "e4f95778-797a-42c1-db4a-1c75ba44bf9d"
      },
      "source": [
        "import numpy as np\n",
        "\n",
        "def max(a, b, c, d):\n",
        "  max = a\n",
        "  if max < b:\n",
        "    max = b\n",
        "  if max < c:\n",
        "    max = c\n",
        "  if max < d:\n",
        "    max = d\n",
        "  return max\n",
        "\n",
        "print(\"Input:\")\n",
        "n = int(input())\n",
        "if n % 2 != 0:\n",
        "  print(\"짝수를 입력해주세요.\")\n",
        "\n",
        "else:\n",
        "  A = np.random.random((n,n))\n",
        "  B = np.random.random((int(n/2), int(n/2)))\n",
        "  for i in range(0, n):\n",
        "    for j in range(0, n):\n",
        "      A[i][j] = round(A[i][j], 2)\n",
        "  \n",
        "  for i in range(0, n, 2):\n",
        "    for j in range(0, n, 2):\n",
        "      B[int(i/2)][int(j/2)] = max(A[i][j], A[i][j+1], A[i+1][j], A[i+1][j+1])\n",
        "  \n",
        "  print(\"Output:\")\n",
        "  print(A)\n",
        "  print(B)"
      ],
      "execution_count": 23,
      "outputs": [
        {
          "output_type": "stream",
          "text": [
            "Input:\n",
            "4\n",
            "Output:\n",
            "[[0.61 0.08 0.4  0.75]\n",
            " [0.82 0.85 0.06 0.45]\n",
            " [0.26 0.59 0.14 0.45]\n",
            " [0.29 0.27 0.6  0.65]]\n",
            "[[0.85 0.75]\n",
            " [0.59 0.65]]\n"
          ],
          "name": "stdout"
        }
      ]
    }
  ]
}