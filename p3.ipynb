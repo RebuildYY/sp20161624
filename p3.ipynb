{
  "nbformat": 4,
  "nbformat_minor": 0,
  "metadata": {
    "colab": {
      "name": "Untitled5.ipynb",
      "version": "0.3.2",
      "provenance": [],
      "include_colab_link": true
    },
    "kernelspec": {
      "name": "python3",
      "display_name": "Python 3"
    }
  },
  "cells": [
    {
      "cell_type": "markdown",
      "metadata": {
        "id": "view-in-github",
        "colab_type": "text"
      },
      "source": [
        "<a href=\"https://colab.research.google.com/github/RebuildYY/sp20161624/blob/master/p3.ipynb\" target=\"_parent\"><img src=\"https://colab.research.google.com/assets/colab-badge.svg\" alt=\"Open In Colab\"/></a>"
      ]
    },
    {
      "cell_type": "code",
      "metadata": {
        "id": "r7F83X31BhzL",
        "colab_type": "code",
        "colab": {
          "base_uri": "https://localhost:8080/",
          "height": 89
        },
        "outputId": "ff329071-31c6-4e9b-e2e7-194dcfbce17f"
      },
      "source": [
        "\n",
        "print(\"Input:\")\n",
        "#A = ['-8', '4', '5', '-10', '3']\n",
        "A = input().split()\n",
        "min = abs(int(A[0]) + int(A[0]))\n",
        "n = len(A)\n",
        "for i in range(0, n):\n",
        "  for j in range(i, n):\n",
        "    a = abs(int(A[i]) + int(A[j]))\n",
        "    if min > a:\n",
        "      min = a\n",
        "print(\"Output:\")\n",
        "print(min)"
      ],
      "execution_count": 11,
      "outputs": [
        {
          "output_type": "stream",
          "text": [
            "Input:\n",
            "-8 4 5 -10 3\n",
            "Output:\n",
            "3\n"
          ],
          "name": "stdout"
        }
      ]
    }
  ]
}