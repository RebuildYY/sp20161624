{
  "nbformat": 4,
  "nbformat_minor": 0,
  "metadata": {
    "colab": {
      "name": "Untitled3.ipynb",
      "version": "0.3.2",
      "provenance": [],
      "include_colab_link": true
    },
    "kernelspec": {
      "name": "python3",
      "display_name": "Python 3"
    }
  },
  "cells": [
    {
      "cell_type": "markdown",
      "metadata": {
        "id": "view-in-github",
        "colab_type": "text"
      },
      "source": [
        "<a href=\"https://colab.research.google.com/github/RebuildYY/sp20161624/blob/master/p1.ipynb\" target=\"_parent\"><img src=\"https://colab.research.google.com/assets/colab-badge.svg\" alt=\"Open In Colab\"/></a>"
      ]
    },
    {
      "cell_type": "code",
      "metadata": {
        "id": "hPGlQPKvc8Xu",
        "colab_type": "code",
        "colab": {
          "base_uri": "https://localhost:8080/",
          "height": 107
        },
        "outputId": "a88ae9ba-10f5-4be7-f141-8fffa2022801"
      },
      "source": [
        "def increase(X):\n",
        "  x = x+1\n",
        "print(\"Input:\")\n",
        "N = int(input())\n",
        "A = input().split()\n",
        "B = list()\n",
        "for i in range(0, int(N)):\n",
        "  B.append(0)\n",
        "maxcounter = 0\n",
        "for i in A:\n",
        "  j = int(i)\n",
        "  if j <= N:\n",
        "    B[j-1] = B[j-1] + 1\n",
        "    if maxcounter < B[j-1]:\n",
        "      maxcounter = B[j-1]\n",
        "  else:\n",
        "    for k in range(0, N):\n",
        "      B[k] = maxcounter\n",
        "print(\"Output:\")\n",
        "for i in range(0, N):\n",
        "  print(B[i], end=' ')"
      ],
      "execution_count": 57,
      "outputs": [
        {
          "output_type": "stream",
          "text": [
            "Input:\n",
            "5\n",
            "3 4 4 6 1 4 4\n",
            "Output:\n",
            "3 2 2 4 2 "
          ],
          "name": "stdout"
        }
      ]
    },
    {
      "cell_type": "code",
      "metadata": {
        "id": "KNSDqbG-g3pH",
        "colab_type": "code",
        "colab": {}
      },
      "source": [
        ""
      ],
      "execution_count": 0,
      "outputs": []
    }
  ]
}